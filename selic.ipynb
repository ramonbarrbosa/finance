{
 "cells": [
  {
   "cell_type": "markdown",
   "metadata": {},
   "source": [
    "## SELIC ##"
   ]
  },
  {
   "cell_type": "markdown",
   "metadata": {},
   "source": [
    "Entendendo a movimentação da taxa básica de juros da economia do Brasil durante o tempo."
   ]
  },
  {
   "cell_type": "code",
   "execution_count": 1,
   "metadata": {},
   "outputs": [
    {
     "name": "stdout",
     "output_type": "stream",
     "text": [
      "Defaulting to user installation because normal site-packages is not writeable\n",
      "Requirement already satisfied: pandas in /var/data/python/lib/python3.12/site-packages (2.2.3)\n",
      "Requirement already satisfied: numpy>=1.26.0 in /var/data/python/lib/python3.12/site-packages (from pandas) (2.2.1)\n",
      "Requirement already satisfied: python-dateutil>=2.8.2 in /var/data/python/lib/python3.12/site-packages (from pandas) (2.9.0.post0)\n",
      "Requirement already satisfied: pytz>=2020.1 in /var/data/python/lib/python3.12/site-packages (from pandas) (2024.2)\n",
      "Requirement already satisfied: tzdata>=2022.7 in /var/data/python/lib/python3.12/site-packages (from pandas) (2024.2)\n",
      "Requirement already satisfied: six>=1.5 in /usr/lib/python3.12/site-packages (from python-dateutil>=2.8.2->pandas) (1.17.0)\n",
      "Defaulting to user installation because normal site-packages is not writeable\n",
      "Requirement already satisfied: numpy in /var/data/python/lib/python3.12/site-packages (2.2.1)\n"
     ]
    }
   ],
   "source": [
    "# instalação das bibliotecas a serem utilizadas\n",
    "!pip install pandas\n",
    "!pip install numpy"
   ]
  },
  {
   "cell_type": "markdown",
   "metadata": {},
   "source": [
    "Exploração de dados"
   ]
  },
  {
   "cell_type": "code",
   "execution_count": 15,
   "metadata": {},
   "outputs": [
    {
     "data": {
      "text/html": [
       "<div>\n",
       "<style scoped>\n",
       "    .dataframe tbody tr th:only-of-type {\n",
       "        vertical-align: middle;\n",
       "    }\n",
       "\n",
       "    .dataframe tbody tr th {\n",
       "        vertical-align: top;\n",
       "    }\n",
       "\n",
       "    .dataframe thead th {\n",
       "        text-align: right;\n",
       "    }\n",
       "</style>\n",
       "<table border=\"1\" class=\"dataframe\">\n",
       "  <thead>\n",
       "    <tr style=\"text-align: right;\">\n",
       "      <th></th>\n",
       "      <th>Data</th>\n",
       "      <th>Taxa (% a.a.)</th>\n",
       "      <th>Fator diário</th>\n",
       "      <th>Financeiro (R$)</th>\n",
       "      <th>Operações</th>\n",
       "      <th>Média</th>\n",
       "      <th>Mediana</th>\n",
       "      <th>Moda</th>\n",
       "      <th>Desvio padrão</th>\n",
       "      <th>Índice de curtose</th>\n",
       "      <th>Unnamed: 10</th>\n",
       "    </tr>\n",
       "  </thead>\n",
       "  <tbody>\n",
       "    <tr>\n",
       "      <th>0</th>\n",
       "      <td>23/12/2024</td>\n",
       "      <td>12,15</td>\n",
       "      <td>1,00045513</td>\n",
       "      <td>1.455.009.268.971,92</td>\n",
       "      <td>424</td>\n",
       "      <td>12,15</td>\n",
       "      <td>12,15</td>\n",
       "      <td>12,15</td>\n",
       "      <td>0,033</td>\n",
       "      <td>3.412,519</td>\n",
       "      <td>NaN</td>\n",
       "    </tr>\n",
       "    <tr>\n",
       "      <th>1</th>\n",
       "      <td>20/12/2024</td>\n",
       "      <td>12,15</td>\n",
       "      <td>1,00045513</td>\n",
       "      <td>1.670.269.263.891,6</td>\n",
       "      <td>882</td>\n",
       "      <td>12,15</td>\n",
       "      <td>12,14</td>\n",
       "      <td>12,15</td>\n",
       "      <td>0,035</td>\n",
       "      <td>3.447,975</td>\n",
       "      <td>NaN</td>\n",
       "    </tr>\n",
       "    <tr>\n",
       "      <th>2</th>\n",
       "      <td>19/12/2024</td>\n",
       "      <td>12,15</td>\n",
       "      <td>1,00045513</td>\n",
       "      <td>1.687.156.779.798,47</td>\n",
       "      <td>869</td>\n",
       "      <td>12,15</td>\n",
       "      <td>12,14</td>\n",
       "      <td>12,15</td>\n",
       "      <td>0,032</td>\n",
       "      <td>4.043,527</td>\n",
       "      <td>NaN</td>\n",
       "    </tr>\n",
       "    <tr>\n",
       "      <th>3</th>\n",
       "      <td>18/12/2024</td>\n",
       "      <td>12,15</td>\n",
       "      <td>1,00045513</td>\n",
       "      <td>1.701.619.618.480</td>\n",
       "      <td>894</td>\n",
       "      <td>12,15</td>\n",
       "      <td>12,14</td>\n",
       "      <td>12,15</td>\n",
       "      <td>0,032</td>\n",
       "      <td>4.177,343</td>\n",
       "      <td>NaN</td>\n",
       "    </tr>\n",
       "    <tr>\n",
       "      <th>4</th>\n",
       "      <td>17/12/2024</td>\n",
       "      <td>12,15</td>\n",
       "      <td>1,00045513</td>\n",
       "      <td>1.726.824.557.657,58</td>\n",
       "      <td>862</td>\n",
       "      <td>12,15</td>\n",
       "      <td>12,14</td>\n",
       "      <td>12,15</td>\n",
       "      <td>0,036</td>\n",
       "      <td>3.540,887</td>\n",
       "      <td>NaN</td>\n",
       "    </tr>\n",
       "  </tbody>\n",
       "</table>\n",
       "</div>"
      ],
      "text/plain": [
       "         Data Taxa (% a.a.) Fator diário       Financeiro (R$)  Operações  \\\n",
       "0  23/12/2024         12,15   1,00045513  1.455.009.268.971,92        424   \n",
       "1  20/12/2024         12,15   1,00045513   1.670.269.263.891,6        882   \n",
       "2  19/12/2024         12,15   1,00045513  1.687.156.779.798,47        869   \n",
       "3  18/12/2024         12,15   1,00045513     1.701.619.618.480        894   \n",
       "4  17/12/2024         12,15   1,00045513  1.726.824.557.657,58        862   \n",
       "\n",
       "   Média Mediana   Moda Desvio padrão Índice de curtose  Unnamed: 10  \n",
       "0  12,15   12,15  12,15         0,033         3.412,519          NaN  \n",
       "1  12,15   12,14  12,15         0,035         3.447,975          NaN  \n",
       "2  12,15   12,14  12,15         0,032         4.043,527          NaN  \n",
       "3  12,15   12,14  12,15         0,032         4.177,343          NaN  \n",
       "4  12,15   12,14  12,15         0,036         3.540,887          NaN  "
      ]
     },
     "execution_count": 15,
     "metadata": {},
     "output_type": "execute_result"
    }
   ],
   "source": [
    "# Lendo uma amostra dos dados\n",
    "import pandas as pd\n",
    "import numpy as np\n",
    "\n",
    "df = pd.read_csv(\"taxa_selic_apurada.csv\", sep=\";\", skiprows=1)\n",
    "df.head()"
   ]
  },
  {
   "cell_type": "code",
   "execution_count": 3,
   "metadata": {},
   "outputs": [
    {
     "data": {
      "text/html": [
       "<div>\n",
       "<style scoped>\n",
       "    .dataframe tbody tr th:only-of-type {\n",
       "        vertical-align: middle;\n",
       "    }\n",
       "\n",
       "    .dataframe tbody tr th {\n",
       "        vertical-align: top;\n",
       "    }\n",
       "\n",
       "    .dataframe thead th {\n",
       "        text-align: right;\n",
       "    }\n",
       "</style>\n",
       "<table border=\"1\" class=\"dataframe\">\n",
       "  <thead>\n",
       "    <tr style=\"text-align: right;\">\n",
       "      <th></th>\n",
       "      <th>Data</th>\n",
       "      <th>Taxa (% a.a.)</th>\n",
       "    </tr>\n",
       "  </thead>\n",
       "  <tbody>\n",
       "    <tr>\n",
       "      <th>0</th>\n",
       "      <td>23/12/2024</td>\n",
       "      <td>12,15</td>\n",
       "    </tr>\n",
       "    <tr>\n",
       "      <th>1</th>\n",
       "      <td>20/12/2024</td>\n",
       "      <td>12,15</td>\n",
       "    </tr>\n",
       "    <tr>\n",
       "      <th>2</th>\n",
       "      <td>19/12/2024</td>\n",
       "      <td>12,15</td>\n",
       "    </tr>\n",
       "    <tr>\n",
       "      <th>3</th>\n",
       "      <td>18/12/2024</td>\n",
       "      <td>12,15</td>\n",
       "    </tr>\n",
       "    <tr>\n",
       "      <th>4</th>\n",
       "      <td>17/12/2024</td>\n",
       "      <td>12,15</td>\n",
       "    </tr>\n",
       "  </tbody>\n",
       "</table>\n",
       "</div>"
      ],
      "text/plain": [
       "         Data Taxa (% a.a.)\n",
       "0  23/12/2024         12,15\n",
       "1  20/12/2024         12,15\n",
       "2  19/12/2024         12,15\n",
       "3  18/12/2024         12,15\n",
       "4  17/12/2024         12,15"
      ]
     },
     "execution_count": 3,
     "metadata": {},
     "output_type": "execute_result"
    }
   ],
   "source": [
    "# Restringindo series.\n",
    "df1 = df.iloc[:, 0:2]\n",
    "df1.head()"
   ]
  },
  {
   "cell_type": "code",
   "execution_count": 4,
   "metadata": {},
   "outputs": [
    {
     "name": "stdout",
     "output_type": "stream",
     "text": [
      "<class 'pandas.core.frame.DataFrame'>\n",
      "RangeIndex: 248 entries, 0 to 247\n",
      "Data columns (total 2 columns):\n",
      " #   Column         Non-Null Count  Dtype \n",
      "---  ------         --------------  ----- \n",
      " 0   Data           248 non-null    object\n",
      " 1   Taxa (% a.a.)  248 non-null    object\n",
      "dtypes: object(2)\n",
      "memory usage: 4.0+ KB\n"
     ]
    }
   ],
   "source": [
    "# Verificando o tipo das series\n",
    "df1.info()"
   ]
  },
  {
   "cell_type": "markdown",
   "metadata": {},
   "source": [
    "Conversão das series"
   ]
  },
  {
   "cell_type": "code",
   "execution_count": 6,
   "metadata": {},
   "outputs": [],
   "source": [
    "# Substitindo as vírgulas para ponto\n",
    "df1[\"Taxa (% a.a.)\"] = df1[\"Taxa (% a.a.)\"].str.replace(\",\", \".\")"
   ]
  },
  {
   "cell_type": "code",
   "execution_count": 7,
   "metadata": {},
   "outputs": [],
   "source": [
    "# Convertendo o tipo de string para float\n",
    "df1[\"Taxa (% a.a.)\"] = df1[\"Taxa (% a.a.)\"].astype(float)"
   ]
  },
  {
   "cell_type": "code",
   "execution_count": 12,
   "metadata": {},
   "outputs": [],
   "source": [
    "df1.Data = pd.to_datetime(df1.Data)"
   ]
  },
  {
   "cell_type": "code",
   "execution_count": 13,
   "metadata": {},
   "outputs": [
    {
     "name": "stdout",
     "output_type": "stream",
     "text": [
      "<class 'pandas.core.frame.DataFrame'>\n",
      "RangeIndex: 248 entries, 0 to 247\n",
      "Data columns (total 4 columns):\n",
      " #   Column         Non-Null Count  Dtype         \n",
      "---  ------         --------------  -----         \n",
      " 0   Data           248 non-null    datetime64[ns]\n",
      " 1   Taxa (% a.a.)  248 non-null    float64       \n",
      " 2   Ano            248 non-null    int32         \n",
      " 3   Mes            248 non-null    int32         \n",
      "dtypes: datetime64[ns](1), float64(1), int32(2)\n",
      "memory usage: 5.9 KB\n"
     ]
    }
   ],
   "source": [
    "# Certificando a veracidade da conversão do tipo dos campos\n",
    "df1.info()"
   ]
  },
  {
   "cell_type": "markdown",
   "metadata": {},
   "source": [
    "Adicionando mais dois campos ao DataFrame"
   ]
  },
  {
   "cell_type": "code",
   "execution_count": 9,
   "metadata": {},
   "outputs": [],
   "source": [
    "# Adicionando duas colunas - \"Ano\" e \"Mes\"\n",
    "df1[\"Ano\"] = df1[\"Data\"].dt.year\n",
    "df1[\"Mes\"] = df1[\"Data\"].dt.month"
   ]
  },
  {
   "cell_type": "code",
   "execution_count": 10,
   "metadata": {},
   "outputs": [
    {
     "data": {
      "text/html": [
       "<div>\n",
       "<style scoped>\n",
       "    .dataframe tbody tr th:only-of-type {\n",
       "        vertical-align: middle;\n",
       "    }\n",
       "\n",
       "    .dataframe tbody tr th {\n",
       "        vertical-align: top;\n",
       "    }\n",
       "\n",
       "    .dataframe thead th {\n",
       "        text-align: right;\n",
       "    }\n",
       "</style>\n",
       "<table border=\"1\" class=\"dataframe\">\n",
       "  <thead>\n",
       "    <tr style=\"text-align: right;\">\n",
       "      <th></th>\n",
       "      <th>Data</th>\n",
       "      <th>Taxa (% a.a.)</th>\n",
       "      <th>Ano</th>\n",
       "      <th>Mes</th>\n",
       "    </tr>\n",
       "  </thead>\n",
       "  <tbody>\n",
       "    <tr>\n",
       "      <th>0</th>\n",
       "      <td>2024-12-23</td>\n",
       "      <td>12.15</td>\n",
       "      <td>2024</td>\n",
       "      <td>12</td>\n",
       "    </tr>\n",
       "    <tr>\n",
       "      <th>1</th>\n",
       "      <td>2024-12-20</td>\n",
       "      <td>12.15</td>\n",
       "      <td>2024</td>\n",
       "      <td>12</td>\n",
       "    </tr>\n",
       "    <tr>\n",
       "      <th>2</th>\n",
       "      <td>2024-12-19</td>\n",
       "      <td>12.15</td>\n",
       "      <td>2024</td>\n",
       "      <td>12</td>\n",
       "    </tr>\n",
       "    <tr>\n",
       "      <th>3</th>\n",
       "      <td>2024-12-18</td>\n",
       "      <td>12.15</td>\n",
       "      <td>2024</td>\n",
       "      <td>12</td>\n",
       "    </tr>\n",
       "    <tr>\n",
       "      <th>4</th>\n",
       "      <td>2024-12-17</td>\n",
       "      <td>12.15</td>\n",
       "      <td>2024</td>\n",
       "      <td>12</td>\n",
       "    </tr>\n",
       "  </tbody>\n",
       "</table>\n",
       "</div>"
      ],
      "text/plain": [
       "        Data  Taxa (% a.a.)   Ano  Mes\n",
       "0 2024-12-23          12.15  2024   12\n",
       "1 2024-12-20          12.15  2024   12\n",
       "2 2024-12-19          12.15  2024   12\n",
       "3 2024-12-18          12.15  2024   12\n",
       "4 2024-12-17          12.15  2024   12"
      ]
     },
     "execution_count": 10,
     "metadata": {},
     "output_type": "execute_result"
    }
   ],
   "source": [
    "df1.head()"
   ]
  },
  {
   "cell_type": "markdown",
   "metadata": {},
   "source": [
    "Agrupamento para analisar a oscilação durante os meses"
   ]
  },
  {
   "cell_type": "code",
   "execution_count": 11,
   "metadata": {},
   "outputs": [
    {
     "name": "stdout",
     "output_type": "stream",
     "text": [
      "<bound method GroupBy.mean of <pandas.core.groupby.generic.DataFrameGroupBy object at 0x7facb7237110>>\n"
     ]
    }
   ],
   "source": [
    "tx_mensal = df1.groupby([\"Mes\", \"Taxa (% a.a.)\"]).mean\n",
    "print(tx_mensal)"
   ]
  }
 ],
 "metadata": {
  "kernelspec": {
   "display_name": "Python 3",
   "language": "python",
   "name": "python3"
  },
  "language_info": {
   "codemirror_mode": {
    "name": "ipython",
    "version": 3
   },
   "file_extension": ".py",
   "mimetype": "text/x-python",
   "name": "python",
   "nbconvert_exporter": "python",
   "pygments_lexer": "ipython3",
   "version": "3.12.8"
  }
 },
 "nbformat": 4,
 "nbformat_minor": 2
}
